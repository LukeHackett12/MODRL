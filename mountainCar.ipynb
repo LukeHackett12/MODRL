{
  "nbformat": 4,
  "nbformat_minor": 0,
  "metadata": {
    "language_info": {
      "codemirror_mode": {
        "name": "ipython",
        "version": 3
      },
      "file_extension": ".py",
      "mimetype": "text/x-python",
      "name": "python",
      "nbconvert_exporter": "python",
      "pygments_lexer": "ipython3",
      "version": "3.7.9-final"
    },
    "orig_nbformat": 2,
    "kernelspec": {
      "name": "python3",
      "display_name": "Python 3.7.9 64-bit",
      "metadata": {
        "interpreter": {
          "hash": "caeb4b62dcf32e497ab1b4ba474b19e7bfa992b4c06523b39b11dd646faa0824"
        }
      }
    },
    "colab": {
      "name": "mountainCar.ipynb",
      "provenance": []
    },
    "accelerator": "GPU"
  },
  "cells": [
    {
      "cell_type": "code",
      "metadata": {
        "id": "Itaq5iEWgQ5R",
        "outputId": "7d53d400-1f74-422f-d711-fd2cd06befa2",
        "colab": {
          "base_uri": "https://localhost:8080/"
        }
      },
      "source": [
        "!git clone https://github.com/LukeHackett12/MODRL.git"
      ],
      "execution_count": 1,
      "outputs": [
        {
          "output_type": "stream",
          "text": [
            "Cloning into 'MODRL'...\n",
            "remote: Enumerating objects: 61, done.\u001b[K\n",
            "remote: Counting objects: 100% (61/61), done.\u001b[K\n",
            "remote: Compressing objects: 100% (47/47), done.\u001b[K\n",
            "remote: Total 61 (delta 21), reused 49 (delta 12), pack-reused 0\u001b[K\n",
            "Unpacking objects: 100% (61/61), done.\n"
          ],
          "name": "stdout"
        }
      ]
    },
    {
      "cell_type": "code",
      "metadata": {
        "id": "Xc0oZ3fAgQ5e",
        "outputId": "0994eb27-8cf9-4d05-c9ab-f854d8347c38",
        "colab": {
          "base_uri": "https://localhost:8080/"
        }
      },
      "source": [
        "!ls"
      ],
      "execution_count": 2,
      "outputs": [
        {
          "output_type": "stream",
          "text": [
            "MODRL  sample_data\n"
          ],
          "name": "stdout"
        }
      ]
    },
    {
      "cell_type": "code",
      "metadata": {
        "id": "9rsRtdgngQ5f",
        "outputId": "96c2b3bb-1eeb-4dc4-f6b0-2fb0570f9c60",
        "colab": {
          "base_uri": "https://localhost:8080/"
        }
      },
      "source": [
        "!pip install pyvirtualdisplay\n",
        "!pip install gym --upgrade\n",
        "!pip install piglet\n",
        "!pip install pygame \n",
        "\n",
        "!apt-get install python-opengl -y\n",
        "!apt install xvfb -y"
      ],
      "execution_count": 3,
      "outputs": [
        {
          "output_type": "stream",
          "text": [
            "Collecting pyvirtualdisplay\n",
            "  Downloading https://files.pythonhosted.org/packages/ad/05/6568620fed440941b704664b9cfe5f836ad699ac7694745e7787fbdc8063/PyVirtualDisplay-2.0-py2.py3-none-any.whl\n",
            "Collecting EasyProcess\n",
            "  Downloading https://files.pythonhosted.org/packages/48/3c/75573613641c90c6d094059ac28adb748560d99bd27ee6f80cce398f404e/EasyProcess-0.3-py2.py3-none-any.whl\n",
            "Installing collected packages: EasyProcess, pyvirtualdisplay\n",
            "Successfully installed EasyProcess-0.3 pyvirtualdisplay-2.0\n",
            "Collecting gym\n",
            "\u001b[?25l  Downloading https://files.pythonhosted.org/packages/26/f2/e7ee20bf02b2d02263becba1c5ec4203fef7cfbd57759e040e51307173f4/gym-0.18.0.tar.gz (1.6MB)\n",
            "\u001b[K     |████████████████████████████████| 1.6MB 17.8MB/s \n",
            "\u001b[?25hRequirement already satisfied, skipping upgrade: scipy in /usr/local/lib/python3.6/dist-packages (from gym) (1.4.1)\n",
            "Requirement already satisfied, skipping upgrade: numpy>=1.10.4 in /usr/local/lib/python3.6/dist-packages (from gym) (1.19.5)\n",
            "Requirement already satisfied, skipping upgrade: pyglet<=1.5.0,>=1.4.0 in /usr/local/lib/python3.6/dist-packages (from gym) (1.5.0)\n",
            "Requirement already satisfied, skipping upgrade: Pillow<=7.2.0 in /usr/local/lib/python3.6/dist-packages (from gym) (7.0.0)\n",
            "Requirement already satisfied, skipping upgrade: cloudpickle<1.7.0,>=1.2.0 in /usr/local/lib/python3.6/dist-packages (from gym) (1.3.0)\n",
            "Requirement already satisfied, skipping upgrade: future in /usr/local/lib/python3.6/dist-packages (from pyglet<=1.5.0,>=1.4.0->gym) (0.16.0)\n",
            "Building wheels for collected packages: gym\n",
            "  Building wheel for gym (setup.py) ... \u001b[?25l\u001b[?25hdone\n",
            "  Created wheel for gym: filename=gym-0.18.0-cp36-none-any.whl size=1656449 sha256=5fff151c69f4e1c2419ed5393efaf308640388f9bce739b4192e640025af5890\n",
            "  Stored in directory: /root/.cache/pip/wheels/be/85/3b/480b828a4a697b37392740a040b8989f729d952b4e441a1877\n",
            "Successfully built gym\n",
            "Installing collected packages: gym\n",
            "  Found existing installation: gym 0.17.3\n",
            "    Uninstalling gym-0.17.3:\n",
            "      Successfully uninstalled gym-0.17.3\n",
            "Successfully installed gym-0.18.0\n",
            "Collecting piglet\n",
            "  Downloading https://files.pythonhosted.org/packages/11/56/6840e5f45626dc7eb7cd5dff57d11880b3113723b3b7b1fb1fa537855b75/piglet-1.0.0-py2.py3-none-any.whl\n",
            "Collecting piglet-templates\n",
            "\u001b[?25l  Downloading https://files.pythonhosted.org/packages/34/1e/49d7e0df9420eeb13a636487b8e606cf099f2ee0793159edd8ffe905125b/piglet_templates-1.1.0-py3-none-any.whl (63kB)\n",
            "\u001b[K     |████████████████████████████████| 71kB 9.3MB/s \n",
            "\u001b[?25hCollecting Parsley\n",
            "\u001b[?25l  Downloading https://files.pythonhosted.org/packages/2b/d6/4fed8d65e28a970e1c5cb33ce9c7e22e3de745e1b2ae37af051ef16aea3b/Parsley-1.3-py2.py3-none-any.whl (88kB)\n",
            "\u001b[K     |████████████████████████████████| 92kB 10.3MB/s \n",
            "\u001b[?25hRequirement already satisfied: attrs in /usr/local/lib/python3.6/dist-packages (from piglet-templates->piglet) (20.3.0)\n",
            "Requirement already satisfied: markupsafe in /usr/local/lib/python3.6/dist-packages (from piglet-templates->piglet) (1.1.1)\n",
            "Requirement already satisfied: astunparse in /usr/local/lib/python3.6/dist-packages (from piglet-templates->piglet) (1.6.3)\n",
            "Requirement already satisfied: wheel<1.0,>=0.23.0 in /usr/local/lib/python3.6/dist-packages (from astunparse->piglet-templates->piglet) (0.36.2)\n",
            "Requirement already satisfied: six<2.0,>=1.6.1 in /usr/local/lib/python3.6/dist-packages (from astunparse->piglet-templates->piglet) (1.15.0)\n",
            "Installing collected packages: Parsley, piglet-templates, piglet\n",
            "Successfully installed Parsley-1.3 piglet-1.0.0 piglet-templates-1.1.0\n",
            "Collecting pygame\n",
            "\u001b[?25l  Downloading https://files.pythonhosted.org/packages/01/da/4ff439558641a26dd29b04c25947e6c0ace041f56b2aa2ef1134edab06b8/pygame-2.0.1-cp36-cp36m-manylinux1_x86_64.whl (11.8MB)\n",
            "\u001b[K     |████████████████████████████████| 11.8MB 14.6MB/s \n",
            "\u001b[?25hInstalling collected packages: pygame\n",
            "Successfully installed pygame-2.0.1\n",
            "Reading package lists... Done\n",
            "Building dependency tree       \n",
            "Reading state information... Done\n",
            "Suggested packages:\n",
            "  libgle3\n",
            "The following NEW packages will be installed:\n",
            "  python-opengl\n",
            "0 upgraded, 1 newly installed, 0 to remove and 10 not upgraded.\n",
            "Need to get 496 kB of archives.\n",
            "After this operation, 5,416 kB of additional disk space will be used.\n",
            "Get:1 http://archive.ubuntu.com/ubuntu bionic/universe amd64 python-opengl all 3.1.0+dfsg-1 [496 kB]\n",
            "Fetched 496 kB in 1s (768 kB/s)\n",
            "Selecting previously unselected package python-opengl.\n",
            "(Reading database ... 146442 files and directories currently installed.)\n",
            "Preparing to unpack .../python-opengl_3.1.0+dfsg-1_all.deb ...\n",
            "Unpacking python-opengl (3.1.0+dfsg-1) ...\n",
            "Setting up python-opengl (3.1.0+dfsg-1) ...\n",
            "Reading package lists... Done\n",
            "Building dependency tree       \n",
            "Reading state information... Done\n",
            "The following NEW packages will be installed:\n",
            "  xvfb\n",
            "0 upgraded, 1 newly installed, 0 to remove and 10 not upgraded.\n",
            "Need to get 784 kB of archives.\n",
            "After this operation, 2,270 kB of additional disk space will be used.\n",
            "Get:1 http://archive.ubuntu.com/ubuntu bionic-updates/universe amd64 xvfb amd64 2:1.19.6-1ubuntu4.8 [784 kB]\n",
            "Fetched 784 kB in 1s (1,254 kB/s)\n",
            "Selecting previously unselected package xvfb.\n",
            "(Reading database ... 148797 files and directories currently installed.)\n",
            "Preparing to unpack .../xvfb_2%3a1.19.6-1ubuntu4.8_amd64.deb ...\n",
            "Unpacking xvfb (2:1.19.6-1ubuntu4.8) ...\n",
            "Setting up xvfb (2:1.19.6-1ubuntu4.8) ...\n",
            "Processing triggers for man-db (2.8.3-2ubuntu0.1) ...\n"
          ],
          "name": "stdout"
        }
      ]
    },
    {
      "cell_type": "code",
      "metadata": {
        "id": "BiMCB5z2gQ5f"
      },
      "source": [
        "import os\n",
        "os.environ[\"SDL_VIDEODRIVER\"] = \"dummy\""
      ],
      "execution_count": 4,
      "outputs": []
    },
    {
      "cell_type": "code",
      "metadata": {
        "id": "q6gAvd8Ai39V"
      },
      "source": [
        "from custom_envs.mountain_car.engine import MountainCar\n",
        "\n",
        "import torch\n",
        "from torch import FloatTensor, LongTensor, BoolTensor\n",
        "from torch.autograd import Variable\n",
        "import torch.nn as nn\n",
        "import torch.optim as optim\n",
        "import torch.nn.functional as F\n",
        "from torchvision import transforms as T\n",
        "\n",
        "import enum\n",
        "import random\n",
        "from collections import namedtuple, deque\n",
        "from typing import NamedTuple\n",
        "\n",
        "import numpy as np\n",
        "\n",
        "%matplotlib inline\n",
        "import matplotlib\n",
        "import matplotlib.pyplot as plt\n",
        "\n",
        "# set up matplotlib\n",
        "is_ipython = 'inline' in matplotlib.get_backend()\n",
        "if is_ipython:\n",
        "    from IPython import display\n",
        "\n",
        "from PIL import Image\n",
        "from dqn_utils.dqn_models import Experience"
      ],
      "execution_count": 30,
      "outputs": []
    },
    {
      "cell_type": "code",
      "metadata": {
        "id": "9Ks7ol8jjJ8E"
      },
      "source": [
        "device = torch.device(\"cuda\" if torch.cuda.is_available() else \"cpu\")"
      ],
      "execution_count": 22,
      "outputs": []
    },
    {
      "cell_type": "code",
      "metadata": {
        "id": "mN__yQJ-jNVZ"
      },
      "source": [
        "class StatusEnum(enum.Enum):\n",
        "    small = 1\n",
        "    tall = 2\n",
        "    fireball = 3\n",
        "\n",
        "class Transition(NamedTuple):\n",
        "    currStates: FloatTensor\n",
        "    actions: LongTensor\n",
        "    rewards: FloatTensor\n",
        "    nextStates: FloatTensor\n",
        "    dones: BoolTensor"
      ],
      "execution_count": 23,
      "outputs": []
    },
    {
      "cell_type": "code",
      "metadata": {
        "id": "-FvihSFCjW9v"
      },
      "source": [
        "class DQN(nn.Module):\n",
        "    def __init__(self, input_shape, num_actions):\n",
        "        super(DQN, self).__init__()\n",
        "        self._input_shape = input_shape\n",
        "        self._num_actions = num_actions\n",
        "\n",
        "        self.features = nn.Sequential(\n",
        "            nn.Conv2d(in_channels=input_shape[0], out_channels=32, kernel_size=8, stride=4),\n",
        "            nn.ReLU(),\n",
        "            nn.Conv2d(in_channels=32, out_channels=64, kernel_size=4, stride=2),\n",
        "            nn.ReLU(),\n",
        "            nn.Conv2d(in_channels=64, out_channels=64, kernel_size=3, stride=1),\n",
        "            nn.ReLU(),\n",
        "            nn.Flatten(),\n",
        "        )\n",
        "\n",
        "        self.fc = nn.Sequential(\n",
        "            nn.Linear(self.feature_size, 512),\n",
        "            nn.ReLU(),\n",
        "            nn.Linear(512, num_actions)\n",
        "        )\n",
        "\n",
        "    def forward(self, x):\n",
        "        x = self.features(x).view(x.size()[0], -1)\n",
        "        return self.fc(x)\n",
        "    \n",
        "    @property\n",
        "    def feature_size(self):\n",
        "        x = self.features(torch.zeros(1, *self._input_shape))\n",
        "        return x.view(1, -1).size(1)"
      ],
      "execution_count": 24,
      "outputs": []
    },
    {
      "cell_type": "code",
      "metadata": {
        "id": "EyijJbWWjSai"
      },
      "source": [
        "class MarioAgent:\n",
        "    def __init__(self, stateShape, actionSpace, numPicks, memorySize):\n",
        "        self.numPicks = numPicks\n",
        "        self.memorySize = memorySize\n",
        "        self.replayMemory = Experience(memorySize, numPicks, 0.9)\n",
        "        self.stateShape = stateShape\n",
        "        self.actionSpace = actionSpace\n",
        "\n",
        "        self.step = 0\n",
        "        self.sync = 10\n",
        "\n",
        "        self.alpha = 0.00025\n",
        "        self.epsilon = 0.99\n",
        "        self.epsilon_decay = 0.9999975\n",
        "        self.epsilon_min=0.05\n",
        "        self.eps_threshold = 0\n",
        "\n",
        "        self.gamma = 0.999\n",
        "        self.tau = 1e-3\n",
        "\n",
        "        self.trainNetwork = DQN(stateShape, len(actionSpace)).to(device)\n",
        "        self.targetNetwork = DQN(stateShape, len(actionSpace)).to(device)\n",
        "        \n",
        "        self.targetNetwork.load_state_dict(self.trainNetwork.state_dict())\n",
        "        self.targetNetwork.eval()\n",
        "        '''\n",
        "        for p in self.trainNetwork.parameters():\n",
        "            p.requires_grad = True\n",
        "        for p in self.targetNetwork.parameters():\n",
        "            p.requires_grad = False\n",
        "        '''\n",
        "        self.optimizer = optim.RMSprop(self.trainNetwork.parameters())\n",
        "\n",
        "    def trainDQN(self):\n",
        "        if self.step <= self.numPicks:\n",
        "            return 1\n",
        "        \n",
        "        samples = self.replayMemory.select(0.9)\n",
        "        batch = Transition(*zip(*samples[0]))\n",
        "        currState,action,reward,nextState,done = batch\n",
        "\n",
        "        '''\n",
        "        states => actions\n",
        "        need ideal actions => Q LERN\n",
        "        '''\n",
        "        '''currState, nextState, action, reward, done = map(\n",
        "            torch.stack, zip(*samples))\n",
        "        '''\n",
        "        reward = torch.flatten(FloatTensor(reward)).to(device)\n",
        "        done = torch.flatten(BoolTensor(done)).to(device)\n",
        "\n",
        "        currState = torch.cat(currState)\n",
        "        action = torch.cat(action)\n",
        "\n",
        "        Q_current = self.trainNetwork(currState).gather(1, action.unsqueeze(1))\n",
        "        \n",
        "        nextStateNonFinal = torch.cat([s for s in nextState\n",
        "                                                if s is not None])\n",
        "        nonFinalMask = torch.tensor(tuple(map(lambda s: s is not None,\n",
        "                                          nextState)), dtype=torch.bool).to(device)\n",
        "\n",
        "        Q_futures = torch.zeros(self.numPicks, device=device)\n",
        "        Q_futures[nonFinalMask] = self.targetNetwork(nextStateNonFinal.squeeze(1)).max(1)[0].detach()\n",
        "       # Q_futures_best = torch.argmax(Q_futures, axis=1)\n",
        "        #Q_next = self.trainNetwork(nextState)\n",
        "        '''(reward + (self.gamma * Q_futures)).unsqueeze(1).float() '''\n",
        "\n",
        "        Q_next = (reward * done + (reward + Q_futures * self.gamma)*~done).unsqueeze(1)\n",
        "\n",
        "        self.optimizer.zero_grad()\n",
        "        loss_fn = nn.SmoothL1Loss()\n",
        "        loss = loss_fn(Q_current, Q_next)\n",
        "        for param in self.trainNetwork.parameters():\n",
        "            if param.grad != None:\n",
        "                param.grad.data.clamp_(-1, 1)\n",
        "        loss.backward()\n",
        "        self.optimizer.step()\n",
        "\n",
        "        '''self.epsilon *= self.epsilon_decay'''\n",
        "        self.soft_update()\n",
        "        self.epsilon = max(self.epsilon, self.epsilon_min)\n",
        "\n",
        "        return 1+loss.cpu().detach().numpy().max()\n",
        "\n",
        "    def selectAction(self, currState):\n",
        "      self.step += 1\n",
        "      '''self.eps_threshold = self.epsilon_min + (self.epsilon - self.epsilon_min) * \\\n",
        "        math.exp(-1. * self.step / self.epsilon_decay)'''\n",
        "      self.epsilon *= self.epsilon_decay\n",
        "\n",
        "      if np.random.rand(1) < self.epsilon:\n",
        "          action = random.sample(self.actionSpace, 1)[0]\n",
        "      else:\n",
        "          currState = currState.unsqueeze(0).to(device)\n",
        "          with torch.no_grad():\n",
        "              action = np.argmax(self.trainNetwork(currState.squeeze(1)).detach().cpu().numpy())\n",
        "      return action\n",
        "\n",
        "    def addMemory(self, memory, loss):\n",
        "        self.replayMemory.add(memory, loss)\n",
        "\n",
        "    def soft_update(self):\n",
        "        for target_param, train_param in zip(self.targetNetwork.parameters(), self.trainNetwork.parameters()):\n",
        "            target_param.data.copy_(self.tau*train_param.data + (1.0-self.tau)*target_param.data)\n",
        "\n",
        "    def save(self):\n",
        "        save_path = (\n",
        "            f\"./mountain_car_{int(self.step)}.chkpt\"\n",
        "        )\n",
        "        torch.save(\n",
        "            dict(model=self.trainNetwork.state_dict(), epsilon=self.epsilon),\n",
        "            save_path,\n",
        "        )\n",
        "        print(f\"MarioNet saved to {save_path} done!\")"
      ],
      "execution_count": 26,
      "outputs": []
    },
    {
      "cell_type": "code",
      "metadata": {
        "id": "TURGuhUDjb_r",
        "outputId": "3393ea85-7080-4f85-c83f-d7f65605a5ae",
        "colab": {
          "base_uri": "https://localhost:8080/",
          "height": 380
        }
      },
      "source": [
        "resize = T.Compose([T.ToPILImage(),\n",
        "                    T.Resize(84, interpolation=Image.CUBIC),\n",
        "                    T.ToTensor()])\n",
        "\n",
        "def process_screen(observation):\n",
        "    # Returned screen requested by gym is 400x600x3, but is sometimes larger\n",
        "    # such as 800x1200x3. Transpose it into torch order (CHW).\n",
        "    screen = observation.transpose((2, 1, 0))\n",
        "    screen = np.ascontiguousarray(screen, dtype=np.float32) / 255\n",
        "    screen = torch.from_numpy(screen)\n",
        "    # Resize, and add a batch dimension (BCHW)\n",
        "    return resize(screen).unsqueeze(0).to(device)\n",
        "\n",
        "episode_score = []\n",
        "\n",
        "def plot_heights():\n",
        "    if is_ipython:\n",
        "        display.clear_output(wait=True)\n",
        "        plt.figure(2)\n",
        "        heights_t = torch.tensor(episode_score, dtype=torch.float)\n",
        "        plt.title('Training...')\n",
        "        plt.xlabel('Episode')\n",
        "        plt.ylabel('Score')\n",
        "        plt.plot(heights_t.numpy())\n",
        "        # Take 100 episode averages and plot them too\n",
        "        if len(heights_t) >= 100:\n",
        "            means = heights_t.unfold(0, 100, 1).mean(1).view(-1)\n",
        "            means = torch.cat((torch.zeros(99), means))\n",
        "            plt.plot(means.numpy())\n",
        "        plt.show()\n",
        "\n",
        "env = MountainCar(speed=1e8, graphical_state=True, render=False, is_debug=True)\n",
        "agent = MarioAgent(stateShape=(3, 84, 84),\n",
        "                   actionSpace=env.get_action_space(), numPicks=128, memorySize=10000)\n",
        "\n",
        "def episode():\n",
        "    done = False\n",
        "    rewardSum = 0\n",
        "    lossSum = 0\n",
        "\n",
        "    env.reset()\n",
        "    currState = process_screen(env.get_state())\n",
        "    lastState = currState\n",
        "    state = currState - lastState\n",
        "\n",
        "    maxScore = -100000\n",
        "\n",
        "    while not done:\n",
        "        stateT = Variable(state)\n",
        "\n",
        "        action = agent.selectAction(stateT)\n",
        "        obs, reward, done, score = env.step_all(action)\n",
        "        maxScore =  max(  maxScore, score)\n",
        "       \n",
        "        reward = np.sum(reward)\n",
        "        lastState = currState\n",
        "        currState = process_screen(obs)\n",
        "\n",
        "        if not done:\n",
        "            nextState = Variable(currState - lastState).to(device)\n",
        "        else:\n",
        "            nextState = None\n",
        "\n",
        "        #reward += obs[0]\n",
        "\n",
        "        actionT = Variable(LongTensor([action])).to(device)\n",
        "        rewardT = Variable(FloatTensor([reward])).to(device)\n",
        "        doneT = Variable(BoolTensor([done])).to(device)\n",
        "\n",
        "        rewardSum += reward\n",
        "        state = nextState\n",
        "\n",
        "        loss = agent.trainDQN()\n",
        "        agent.addMemory((stateT, actionT, rewardT, nextState, doneT), loss)\n",
        "        lossSum += loss\n",
        "\n",
        "        if ep % 100 == 0:\n",
        "            env.render()\n",
        "\n",
        "    episode_score.append(maxScore)\n",
        "    plot_heights()\n",
        "\n",
        "    if ep % 200 == 0:\n",
        "        agent.save()\n",
        "\n",
        "    print(\"now epsilon is {}, the reward is {} with loss {} in episode {}\".format(agent.epsilon, rewardSum, lossSum, ep)) \n",
        "\n",
        "ep = 1\n",
        "while ep < 10000:\n",
        "    episode()\n",
        "    ep += 1\n",
        "\n",
        "env.close()"
      ],
      "execution_count": null,
      "outputs": [
        {
          "output_type": "display_data",
          "data": {
            "image/png": "[encoded data removed]",
            "text/plain": [
              "<Figure size 432x288 with 1 Axes>"
            ]
          },
          "metadata": {
            "tags": [],
            "needs_background": "light"
          }
        },
        {
          "output_type": "stream",
          "text": [
            "now epsilon is 0.9880022159439659, the reward is -330 with loss 202.12379405431096 in episode 4\n",
            "#################  RESET GAME  ##################\n",
            "Episode terminated after: 28 (s)\n",
            "Total score: -203\n",
            "#################################################\n"
          ],
          "name": "stdout"
        }
      ]
    }
  ]
}